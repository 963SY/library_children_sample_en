{
 "cells": [
  {
   "cell_type": "markdown",
   "id": "cbcab6d0",
   "metadata": {},
   "source": [
    "# تحليل بيانات مكتبة الأطفال 📚\n",
    "هذا الدفتر يقدّم تحليلًا وصفيًا وتنبؤيًا لبيانات استعارة الكتب والغرامات في مكتبة الأطفال، مع رسوم بيانية وعناوين عربية.\n",
    "الملف المستخدم: `library_children_sample_en.xlsx`."
   ]
  },
  {
   "cell_type": "markdown",
   "id": "6d35cc32",
   "metadata": {},
   "source": [
    "## 1) تحميل البيانات ومعاينتها"
   ]
  },
  {
   "cell_type": "code",
   "execution_count": null,
   "id": "f4a46ac0",
   "metadata": {},
   "outputs": [],
   "source": [
    "import pandas as pd\n",
    "import numpy as np\n",
    "import matplotlib.pyplot as plt\n",
    "path = r'library_children_sample_en.xlsx'\n",
    "df = pd.read_excel(path)\n",
    "df.head()"
   ]
  },
  {
   "cell_type": "code",
   "execution_count": null,
   "id": "acfc48f1",
   "metadata": {},
   "outputs": [],
   "source": [
    "df.info()"
   ]
  },
  {
   "cell_type": "code",
   "execution_count": null,
   "id": "5c2d3d34",
   "metadata": {},
   "outputs": [],
   "source": [
    "df.describe(include=[np.number]).T"
   ]
  },
  {
   "cell_type": "markdown",
   "id": "acceb80c",
   "metadata": {},
   "source": [
    "## 2) تحديد أنواع الأعمدة"
   ]
  },
  {
   "cell_type": "code",
   "execution_count": null,
   "id": "f3621a21",
   "metadata": {},
   "outputs": [],
   "source": [
    "numeric_cols = df.select_dtypes(include=[np.number]).columns.tolist()\n",
    "categorical_cols = df.select_dtypes(include=['object','category','bool']).columns.tolist()\n",
    "numeric_cols, categorical_cols"
   ]
  },
  {
   "cell_type": "markdown",
   "id": "31ea0634",
   "metadata": {},
   "source": [
    "## 3) رسوم بيانية أساسية"
   ]
  },
  {
   "cell_type": "code",
   "execution_count": null,
   "id": "be856451",
   "metadata": {},
   "outputs": [],
   "source": [
    "# هيستوجرام للأعمار (إن وُجدت)\n",
    "col_age = None\n",
    "for c in df.columns:\n",
    "    if 'age' in c.lower():\n",
    "        col_age = c; break\n",
    "if col_age is not None:\n",
    "    df[col_age].dropna().plot(kind='hist', bins=10)\n",
    "    plt.title('توزيع الأعمار')\n",
    "    plt.xlabel('العمر')\n",
    "    plt.ylabel('التكرار')\n",
    "    plt.show()"
   ]
  },
  {
   "cell_type": "code",
   "execution_count": null,
   "id": "35135c11",
   "metadata": {},
   "outputs": [],
   "source": [
    "# أكثر الأنواع قراءةً (إن وُجدت)\n",
    "col_genre = None\n",
    "for c in df.columns:\n",
    "    if 'genre' in c.lower():\n",
    "        col_genre = c; break\n",
    "if col_genre is not None:\n",
    "    df[col_genre].value_counts().head(10).plot(kind='bar')\n",
    "    plt.title('أكثر الأنواع قراءةً (أعلى 10)')\n",
    "    plt.xlabel('النوع')\n",
    "    plt.ylabel('عدد الاستعارات')\n",
    "    plt.xticks(rotation=45, ha='right')\n",
    "    plt.tight_layout(); plt.show()"
   ]
  },
  {
   "cell_type": "code",
   "execution_count": null,
   "id": "418e1a26",
   "metadata": {},
   "outputs": [],
   "source": [
    "# Boxplot للغرامات حسب الجنس/المستوى القرائي إن وُجدت الأعمدة\n",
    "col_fine = None\n",
    "for c in df.columns:\n",
    "    if 'fine' in c.lower():\n",
    "        col_fine = c; break\n",
    "group_col = None\n",
    "for c in df.columns:\n",
    "    if c.lower() in ['gender','reading_level']:\n",
    "        group_col = c; break\n",
    "if col_fine is not None and group_col is not None:\n",
    "    groups = [g[col_fine].dropna().values for _, g in df.groupby(group_col)]\n",
    "    labels = [str(k) for k,_ in df.groupby(group_col)]\n",
    "    if len(groups) >= 2:\n",
    "        plt.boxplot(groups, labels=labels)\n",
    "        plt.title(f'الغرامات بحسب {group_col}')\n",
    "        plt.xlabel(group_col)\n",
    "        plt.ylabel('قيمة الغرامة')\n",
    "        plt.show()"
   ]
  },
  {
   "cell_type": "code",
   "execution_count": null,
   "id": "b3c86988",
   "metadata": {},
   "outputs": [],
   "source": [
    "# علاقة عدد الكتب المستعارة بالغرامات (إن توفّر العمودان)\n",
    "col_borrow = None\n",
    "for c in df.columns:\n",
    "    if 'borrowed_books' in c.lower():\n",
    "        col_borrow = c; break\n",
    "if col_borrow is not None and col_fine is not None:\n",
    "    plt.scatter(df[col_borrow], df[col_fine])\n",
    "    plt.title('العلاقة بين عدد الكتب المستعارة والغرامات')\n",
    "    plt.xlabel('عدد الكتب المستعارة')\n",
    "    plt.ylabel('قيمة الغرامة')\n",
    "    plt.show()"
   ]
  },
  {
   "cell_type": "markdown",
   "id": "95174fbc",
   "metadata": {},
   "source": [
    "## 4) مصفوفة الارتباط للمتغيرات الرقمية"
   ]
  },
  {
   "cell_type": "code",
   "execution_count": null,
   "id": "a9a4ca42",
   "metadata": {},
   "outputs": [],
   "source": [
    "nums = df.select_dtypes(include=[np.number])\n",
    "if nums.shape[1] >= 2:\n",
    "    corr = nums.corr(numeric_only=True)\n",
    "    im = plt.imshow(corr, interpolation='nearest')\n",
    "    plt.title('مصفوفة الارتباط (رقمي)')\n",
    "    plt.xticks(range(len(corr.columns)), corr.columns, rotation=45, ha='right')\n",
    "    plt.yticks(range(len(corr.index)), corr.index)\n",
    "    plt.colorbar(im, fraction=0.046, pad=0.04)\n",
    "    plt.tight_layout(); plt.show()\n",
    "corr"
   ]
  },
  {
   "cell_type": "markdown",
   "id": "cbcbbe64",
   "metadata": {},
   "source": [
    "## 5) نموذج تصنيف: التنبؤ بالتأخر في الإرجاع `Return_Status`"
   ]
  },
  {
   "cell_type": "code",
   "execution_count": null,
   "id": "d202448d",
   "metadata": {},
   "outputs": [],
   "source": [
    "from sklearn.model_selection import train_test_split\n",
    "from sklearn.linear_model import LogisticRegression\n",
    "from sklearn.metrics import accuracy_score, precision_score, recall_score, f1_score, confusion_matrix\n",
    "\n",
    "# تجهيز الهدف\n",
    "col_return = None\n",
    "for c in df.columns:\n",
    "    if 'return_status' in c.lower():\n",
    "        col_return = c; break\n",
    "if col_return is None:\n",
    "    print('⚠️ لم أجد عمود Return_Status، سيتم تجاوز هذا القسم.')\n",
    "else:\n",
    "    y = (df[col_return].astype(str).str.strip().str.lower().isin(['late','yes','true','1'])).astype(int)\n",
    "    X = df.drop(columns=[col_return]).copy()\n",
    "    X = pd.get_dummies(X, drop_first=True)\n",
    "    X = X.select_dtypes(include=[np.number]).fillna(0)\n",
    "    if X.shape[0] >= 8 and X.shape[1] > 0 and y.nunique()==2:\n",
    "        X_train, X_test, y_train, y_test = train_test_split(X, y, test_size=0.25, random_state=42, stratify=y)\n",
    "        clf = LogisticRegression(max_iter=200).fit(X_train, y_train)\n",
    "        preds = clf.predict(X_test)\n",
    "        acc = accuracy_score(y_test, preds)\n",
    "        prec = precision_score(y_test, preds, zero_division=0)\n",
    "        rec = recall_score(y_test, preds, zero_division=0)\n",
    "        f1 = f1_score(y_test, preds, zero_division=0)\n",
    "        print('الدقة:', round(acc,3),'، الدقة النوعية:', round(prec,3),'، الاستدعاء:', round(rec,3),'، F1:', round(f1,3))\n",
    "        print('مصفوفة الالتباس:\\n', confusion_matrix(y_test, preds))\n",
    "    else:\n",
    "        print('⚠️ بيانات غير كافية/غير ثنائية للتصنيف.')"
   ]
  },
  {
   "cell_type": "markdown",
   "id": "305fd325",
   "metadata": {},
   "source": [
    "## 6) نموذج انحدار: التنبؤ بعدد الكتب المستعارة `Borrowed_Books`"
   ]
  },
  {
   "cell_type": "code",
   "execution_count": null,
   "id": "d04a799e",
   "metadata": {},
   "outputs": [],
   "source": [
    "from sklearn.linear_model import LinearRegression\n",
    "from sklearn.metrics import r2_score, mean_absolute_error, mean_squared_error\n",
    "\n",
    "col_borrow = None\n",
    "for c in df.columns:\n",
    "    if 'borrowed_books' in c.lower():\n",
    "        col_borrow = c; break\n",
    "if col_borrow is None:\n",
    "    print('⚠️ لم أجد عمود Borrowed_Books، سيتم تجاوز هذا القسم.')\n",
    "else:\n",
    "    y = df[col_borrow].astype(float)\n",
    "    X = df.drop(columns=[col_borrow]).copy()\n",
    "    X = pd.get_dummies(X, drop_first=True)\n",
    "    X = X.select_dtypes(include=[np.number]).fillna(0)\n",
    "    valid = y.notna()\n",
    "    X, y = X.loc[valid], y.loc[valid]\n",
    "    if X.shape[0] >= 8 and X.shape[1] > 0:\n",
    "        from sklearn.model_selection import train_test_split\n",
    "        X_train, X_test, y_train, y_test = train_test_split(X, y, test_size=0.25, random_state=42)\n",
    "        lr = LinearRegression().fit(X_train, y_train)\n",
    "        preds = lr.predict(X_test)\n",
    "        r2 = r2_score(y_test, preds)\n",
    "        mae = mean_absolute_error(y_test, preds)\n",
    "        rmse = mean_squared_error(y_test, preds, squared=False)\n",
    "        print('R²:', round(r2,3),' MAE:', round(mae,3),' RMSE:', round(rmse,3))\n",
    "    else:\n",
    "        print('⚠️ بيانات غير كافية للانحدار.')"
   ]
  }
 ],
 "metadata": {
  "kernelspec": {
   "display_name": "Python 3",
   "name": "python3"
  }
 },
 "nbformat": 4,
 "nbformat_minor": 5
}
